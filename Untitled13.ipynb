{
 "cells": [
  {
   "cell_type": "code",
   "execution_count": 1,
   "metadata": {},
   "outputs": [
    {
     "name": "stdout",
     "output_type": "stream",
     "text": [
      "Requirement already satisfied: django in c:\\users\\r01-pc04\\anaconda3\\lib\\site-packages (3.1.6)\n",
      "Requirement already satisfied: asgiref<4,>=3.2.10 in c:\\users\\r01-pc04\\anaconda3\\lib\\site-packages (from django) (3.3.1)\n",
      "Requirement already satisfied: sqlparse>=0.2.2 in c:\\users\\r01-pc04\\anaconda3\\lib\\site-packages (from django) (0.4.1)\n",
      "Requirement already satisfied: pytz in c:\\users\\r01-pc04\\anaconda3\\lib\\site-packages (from django) (2020.1)\n"
     ]
    }
   ],
   "source": [
    "!pip install django"
   ]
  },
  {
   "cell_type": "code",
   "execution_count": null,
   "metadata": {},
   "outputs": [],
   "source": []
  }
 ],
 "metadata": {
  "kernelspec": {
   "display_name": "Python 3",
   "language": "python",
   "name": "python3"
  },
  "language_info": {
   "codemirror_mode": {
    "name": "ipython",
    "version": 3
   },
   "file_extension": ".py",
   "mimetype": "text/x-python",
   "name": "python",
   "nbconvert_exporter": "python",
   "pygments_lexer": "ipython3",
   "version": "3.8.5"
  }
 },
 "nbformat": 4,
 "nbformat_minor": 4
}
