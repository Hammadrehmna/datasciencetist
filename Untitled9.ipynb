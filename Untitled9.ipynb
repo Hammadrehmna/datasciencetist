{
 "cells": [
  {
   "cell_type": "code",
   "execution_count": 24,
   "metadata": {},
   "outputs": [],
   "source": [
    "class Resturant():\n",
    "    def __init__(self, restaurant_name, cuisine_type):\n",
    "        self.resturant_name = restaurant_name\n",
    "        self.cuisine_type = cuisine_type\n",
    "        self.number_served = 0\n",
    "    def set_number_served(self, served):\n",
    "        self.number_served =+ served\n",
    "    def describe_restaurant(self):\n",
    "        print(f\"Resturant Name: {self.resturant_name} \\nCuisine Type: {self.cuisine_type}\")\n",
    "    def open_restaurant(self):\n",
    "        print(\"Resturant is open!\")"
   ]
  },
  {
   "cell_type": "code",
   "execution_count": 25,
   "metadata": {},
   "outputs": [],
   "source": [
    "resturant = Resturant(\"shaheen\", \"fast food\")"
   ]
  },
  {
   "cell_type": "code",
   "execution_count": 26,
   "metadata": {},
   "outputs": [],
   "source": [
    "resturant.set_number_served(50)"
   ]
  },
  {
   "cell_type": "code",
   "execution_count": 22,
   "metadata": {},
   "outputs": [
    {
     "data": {
      "text/plain": [
       "0"
      ]
     },
     "execution_count": 22,
     "metadata": {},
     "output_type": "execute_result"
    }
   ],
   "source": [
    "resturant.number_served"
   ]
  },
  {
   "cell_type": "code",
   "execution_count": 11,
   "metadata": {},
   "outputs": [],
   "source": [
    "resturant = Resturant(\"Ramada\", 'Fast Food')"
   ]
  },
  {
   "cell_type": "code",
   "execution_count": 12,
   "metadata": {},
   "outputs": [
    {
     "data": {
      "text/plain": [
       "'Ramada'"
      ]
     },
     "execution_count": 12,
     "metadata": {},
     "output_type": "execute_result"
    }
   ],
   "source": [
    "resturant.resturant_name"
   ]
  },
  {
   "cell_type": "code",
   "execution_count": 13,
   "metadata": {},
   "outputs": [
    {
     "data": {
      "text/plain": [
       "'Fast Food'"
      ]
     },
     "execution_count": 13,
     "metadata": {},
     "output_type": "execute_result"
    }
   ],
   "source": [
    "resturant.cuisine_type"
   ]
  },
  {
   "cell_type": "code",
   "execution_count": 14,
   "metadata": {},
   "outputs": [
    {
     "name": "stdout",
     "output_type": "stream",
     "text": [
      "Resturant Name: Ramada \n",
      "Cuisine Type: Fast Food\n"
     ]
    }
   ],
   "source": [
    "resturant.describe_restaurant()"
   ]
  },
  {
   "cell_type": "code",
   "execution_count": 15,
   "metadata": {},
   "outputs": [
    {
     "name": "stdout",
     "output_type": "stream",
     "text": [
      "Resturant is open!\n"
     ]
    }
   ],
   "source": [
    "resturant.open_restaurant()"
   ]
  },
  {
   "cell_type": "code",
   "execution_count": 16,
   "metadata": {},
   "outputs": [],
   "source": [
    "second_resturant = Resturant('Pizza 360', \"Fast Food\")"
   ]
  },
  {
   "cell_type": "code",
   "execution_count": 17,
   "metadata": {},
   "outputs": [],
   "source": [
    "third_resturant = Resturant('Khan Biryani', 'Desi')"
   ]
  },
  {
   "cell_type": "code",
   "execution_count": 18,
   "metadata": {},
   "outputs": [
    {
     "name": "stdout",
     "output_type": "stream",
     "text": [
      "Resturant Name: Pizza 360 \n",
      "Cuisine Type: Fast Food\n"
     ]
    }
   ],
   "source": [
    "second_resturant.describe_restaurant()"
   ]
  },
  {
   "cell_type": "code",
   "execution_count": 19,
   "metadata": {},
   "outputs": [
    {
     "name": "stdout",
     "output_type": "stream",
     "text": [
      "Resturant Name: Khan Biryani \n",
      "Cuisine Type: Desi\n"
     ]
    }
   ],
   "source": [
    "third_resturant.describe_restaurant()"
   ]
  },
  {
   "cell_type": "code",
   "execution_count": 9,
   "metadata": {},
   "outputs": [],
   "source": [
    "class User():\n",
    "    def __init__(self,user_name,user_email,user_address):\n",
    "        self.user_name = user_name\n",
    "        self.user_email = user_email\n",
    "        self.user_address = user_address\n",
    "    def describe_user(self):\n",
    "        print(f\"{self.user_name} \\n{self.user_email} \\n{self.user_address}\")\n",
    "    def greet_user(self):\n",
    "        print(f'Hello {self.user_name}!')"
   ]
  },
  {
   "cell_type": "code",
   "execution_count": 10,
   "metadata": {},
   "outputs": [
    {
     "name": "stdout",
     "output_type": "stream",
     "text": [
      "Nameebad\n",
      "Emailgmail.com\n",
      "Addresskarachi\n"
     ]
    }
   ],
   "source": [
    "name = input(\"Name\")\n",
    "email = input(\"Email\")\n",
    "address = input(\"Address\")\n",
    "user1 = User(name, email, address)"
   ]
  },
  {
   "cell_type": "code",
   "execution_count": 29,
   "metadata": {},
   "outputs": [],
   "source": [
    "class Ice_stand(Resturant):\n",
    "    def __init__(self, resturant_name, cuisine_type):\n",
    "        super(). __init__(resturant_name, cuisine_type)\n",
    "        self.flavours = ['a','b','c']\n",
    "    def show"
   ]
  },
  {
   "cell_type": "code",
   "execution_count": null,
   "metadata": {},
   "outputs": [],
   "source": []
  }
 ],
 "metadata": {
  "kernelspec": {
   "display_name": "Python 3",
   "language": "python",
   "name": "python3"
  }
 },
 "nbformat": 4,
 "nbformat_minor": 4
}
